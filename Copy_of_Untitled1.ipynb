{
  "cells": [
    {
      "cell_type": "markdown",
      "metadata": {
        "id": "view-in-github",
        "colab_type": "text"
      },
      "source": [
        "<a href=\"https://colab.research.google.com/github/Aniruddha120/AI-using-Matlab/blob/main/Copy_of_Untitled1.ipynb\" target=\"_parent\"><img src=\"https://colab.research.google.com/assets/colab-badge.svg\" alt=\"Open In Colab\"/></a>"
      ]
    },
    {
      "cell_type": "code",
      "execution_count": null,
      "id": "f7321ee9-6dd7-4ae4-affc-8822db0cf73c",
      "metadata": {
        "id": "f7321ee9-6dd7-4ae4-affc-8822db0cf73c",
        "outputId": "a100ca63-28ae-48dd-93ed-ffff156169d6",
        "colab": {
          "base_uri": "https://localhost:8080/"
        }
      },
      "outputs": [
        {
          "output_type": "stream",
          "name": "stdout",
          "text": [
            "a: 6 b: total: 11\n",
            "11\n"
          ]
        }
      ],
      "source": [
        "def sum(a,b):\n",
        "    total = a+b\n",
        "    print('a:',a,'b:','total:',total)\n",
        "    return total\n",
        "\n",
        "exp = sum(b = 5, a = 6)\n",
        "print(exp)\n",
        "\n"
      ]
    },
    {
      "cell_type": "code",
      "execution_count": null,
      "id": "e693c6a5-e5d2-4ed0-8d0a-47cd0040db53",
      "metadata": {
        "id": "e693c6a5-e5d2-4ed0-8d0a-47cd0040db53",
        "outputId": "7ac721d3-519f-4bf5-d0f3-96b9856a70c0",
        "colab": {
          "base_uri": "https://localhost:8080/"
        }
      },
      "outputs": [
        {
          "output_type": "stream",
          "name": "stdout",
          "text": [
            "121\n"
          ]
        }
      ],
      "source": [
        "print(exp*exp)"
      ]
    },
    {
      "cell_type": "code",
      "source": [],
      "metadata": {
        "id": "M7WiIn0nQXPx"
      },
      "id": "M7WiIn0nQXPx",
      "execution_count": null,
      "outputs": []
    }
  ],
  "metadata": {
    "kernelspec": {
      "display_name": "base",
      "language": "python",
      "name": "python3"
    },
    "language_info": {
      "codemirror_mode": {
        "name": "ipython",
        "version": 3
      },
      "file_extension": ".py",
      "mimetype": "text/x-python",
      "name": "python",
      "nbconvert_exporter": "python",
      "pygments_lexer": "ipython3",
      "version": "3.9.16"
    },
    "vscode": {
      "interpreter": {
        "hash": "89d377ba5740edcf042495edebefd724aa1361194727f21774698e377d34a8b6"
      }
    },
    "colab": {
      "provenance": [],
      "include_colab_link": true
    }
  },
  "nbformat": 4,
  "nbformat_minor": 5
}